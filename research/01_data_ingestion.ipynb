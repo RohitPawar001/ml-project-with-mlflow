{
 "cells": [
  {
   "cell_type": "code",
   "execution_count": 1,
   "metadata": {},
   "outputs": [],
   "source": [
    "import os"
   ]
  },
  {
   "cell_type": "code",
   "execution_count": 2,
   "metadata": {},
   "outputs": [
    {
     "data": {
      "text/plain": [
       "'d:\\\\software\\\\python_vs\\\\ml_project_with_mlflow\\\\research'"
      ]
     },
     "execution_count": 2,
     "metadata": {},
     "output_type": "execute_result"
    }
   ],
   "source": [
    "%pwd"
   ]
  },
  {
   "cell_type": "code",
   "execution_count": 3,
   "metadata": {},
   "outputs": [],
   "source": [
    "os.chdir(\"../\")"
   ]
  },
  {
   "cell_type": "code",
   "execution_count": 4,
   "metadata": {},
   "outputs": [
    {
     "data": {
      "text/plain": [
       "'d:\\\\software\\\\python_vs\\\\ml_project_with_mlflow'"
      ]
     },
     "execution_count": 4,
     "metadata": {},
     "output_type": "execute_result"
    }
   ],
   "source": [
    "%pwd"
   ]
  },
  {
   "cell_type": "code",
   "execution_count": 5,
   "metadata": {},
   "outputs": [],
   "source": [
    "from dataclasses import dataclass\n",
    "from pathlib import Path\n",
    "\n",
    "@dataclass(frozen=True)\n",
    "class DataIngestionConfig:\n",
    "    root_dir: Path\n",
    "    source_URL: str\n",
    "    local_data_file : Path\n",
    "    unzip_dir:Path"
   ]
  },
  {
   "cell_type": "code",
   "execution_count": 6,
   "metadata": {},
   "outputs": [
    {
     "name": "stdout",
     "output_type": "stream",
     "text": [
      "Current sys.path: ['d:\\\\software\\\\python312.zip', 'd:\\\\software\\\\DLLs', 'd:\\\\software\\\\Lib', 'd:\\\\software', '', 'd:\\\\software\\\\Lib\\\\site-packages', 'd:\\\\software\\\\python_vs\\\\credit_card_fraud_detection', 'd:\\\\software\\\\Lib\\\\site-packages\\\\win32', 'd:\\\\software\\\\Lib\\\\site-packages\\\\win32\\\\lib', 'd:\\\\software\\\\Lib\\\\site-packages\\\\Pythonwin', 'D:\\\\software\\\\python_vs\\\\ml_project_with_mlflow\\\\src']\n",
      "Imports successful\n"
     ]
    }
   ],
   "source": [
    "import sys\n",
    "import os\n",
    "src_path = \"D:\\\\software\\\\python_vs\\\\ml_project_with_mlflow\\\\src\"\n",
    "sys.path.append(os.path.abspath(src_path))\n",
    "print(\"Current sys.path:\", sys.path)\n",
    "from ml_project.utils import comman\n",
    "print(\"Imports successful\")\n"
   ]
  },
  {
   "cell_type": "code",
   "execution_count": 7,
   "metadata": {},
   "outputs": [],
   "source": [
    "from ml_project.constants import *\n",
    "from ml_project.utils.comman import read_yaml, create_directories"
   ]
  },
  {
   "cell_type": "code",
   "execution_count": 8,
   "metadata": {},
   "outputs": [],
   "source": [
    "import os\n",
    "import urllib.request as request\n",
    "import zipfile\n",
    "from ml_project import logger\n",
    "from ml_project.utils.comman import get_size\n"
   ]
  },
  {
   "cell_type": "code",
   "execution_count": 9,
   "metadata": {},
   "outputs": [
    {
     "name": "stdout",
     "output_type": "stream",
     "text": [
      "An error occurred: 'source_url'\n"
     ]
    }
   ],
   "source": [
    "import os\n",
    "import urllib.request as request\n",
    "import zipfile\n",
    "import yaml\n",
    "\n",
    "def read_yaml(filepath):\n",
    "    with open(filepath, 'r') as file:\n",
    "        return yaml.safe_load(file)\n",
    "\n",
    "def create_directories(directories):\n",
    "    for directory in directories:\n",
    "        os.makedirs(directory, exist_ok=True)\n",
    "\n",
    "class DataIngestionConfig:\n",
    "    def __init__(self, root_dir, source_url, local_data_file, unzip_dir):\n",
    "        self.root_dir = root_dir\n",
    "        self.source_url = source_url\n",
    "        self.local_data_file = local_data_file\n",
    "        self.unzip_dir = unzip_dir\n",
    "\n",
    "class ConfigurationManager:\n",
    "    def __init__(self, config_filepath, params_filepath, schema_filepath):\n",
    "        self.config = read_yaml(config_filepath)\n",
    "        self.params = read_yaml(params_filepath)\n",
    "        self.schema = read_yaml(schema_filepath)\n",
    "        \n",
    "        create_directories([self.config['artifacts_root']])\n",
    "        \n",
    "    def get_data_ingestion_config(self) -> DataIngestionConfig:\n",
    "        config = self.config['data_ingestion']\n",
    "        \n",
    "        create_directories([config['root_dir']])\n",
    "        \n",
    "        data_ingestion_config = DataIngestionConfig(\n",
    "            root_dir=config['root_dir'],\n",
    "            source_url=config['source_url'],\n",
    "            local_data_file=config['local_data_file'],\n",
    "            unzip_dir=config['unzip_dir']\n",
    "        )\n",
    "        \n",
    "        return data_ingestion_config\n",
    "\n",
    "class DataIngestion:\n",
    "    def __init__(self, config: DataIngestionConfig):\n",
    "        self.config = config\n",
    "\n",
    "    def download_file(self):\n",
    "        # Create the local data file directory if it doesn't exist\n",
    "        local_data_file_dir = os.path.dirname(self.config.local_data_file)\n",
    "        if not os.path.exists(local_data_file_dir):\n",
    "            os.makedirs(local_data_file_dir, exist_ok=True)\n",
    "\n",
    "        if not os.path.exists(self.config.local_data_file):\n",
    "            filename, headers = request.urlretrieve(\n",
    "                url=self.config.source_url,\n",
    "                filename=self.config.local_data_file\n",
    "            )\n",
    "            print(f\"{filename} downloaded! with the following info: \\n{headers}\")\n",
    "        else:\n",
    "            print(f\"File already exists of size: {os.path.getsize(self.config.local_data_file)}\")\n",
    "\n",
    "    def extract_zip_file(self):\n",
    "        unzip_path = self.config.unzip_dir\n",
    "        os.makedirs(unzip_path, exist_ok=True)\n",
    "        with zipfile.ZipFile(self.config.local_data_file, 'r') as zip_ref:\n",
    "            zip_ref.extractall(unzip_path)\n",
    "        print(f\"Extracted all files to {unzip_path}\")\n",
    "\n",
    "# Example usage\n",
    "try:\n",
    "    CONFIG_FILE_PATH = r\"D:\\software\\python_vs\\ml_project_with_mlflow\\config\\config.yaml\"\n",
    "    PARAMS_FILE_PATH = r\"D:\\software\\python_vs\\ml_project_with_mlflow\\params.yaml\"\n",
    "    SCHEMA_FILE_PATH = r\"D:\\software\\python_vs\\ml_project_with_mlflow\\schema.yaml\"\n",
    "    \n",
    "    config_manager = ConfigurationManager(CONFIG_FILE_PATH, PARAMS_FILE_PATH, SCHEMA_FILE_PATH)\n",
    "    data_ingestion_config = config_manager.get_data_ingestion_config()\n",
    "    print(\"DataIngestionConfig created successfully:\", data_ingestion_config)\n",
    "    \n",
    "    data_ingestion = DataIngestion(config=data_ingestion_config)\n",
    "    data_ingestion.download_file()\n",
    "    data_ingestion.extract_zip_file()\n",
    "except Exception as e:\n",
    "    print(\"An error occurred:\", e)\n"
   ]
  },
  {
   "cell_type": "code",
   "execution_count": null,
   "metadata": {},
   "outputs": [],
   "source": []
  }
 ],
 "metadata": {
  "kernelspec": {
   "display_name": "Python 3",
   "language": "python",
   "name": "python3"
  },
  "language_info": {
   "codemirror_mode": {
    "name": "ipython",
    "version": 3
   },
   "file_extension": ".py",
   "mimetype": "text/x-python",
   "name": "python",
   "nbconvert_exporter": "python",
   "pygments_lexer": "ipython3",
   "version": "3.12.2"
  }
 },
 "nbformat": 4,
 "nbformat_minor": 2
}
